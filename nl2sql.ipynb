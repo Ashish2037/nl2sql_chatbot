{
 "cells": [
  {
   "cell_type": "code",
   "execution_count": 1,
   "metadata": {},
   "outputs": [],
   "source": [
    "from llama_index.core import SQLDatabase\n",
    "from llama_index.core.query_engine import NLSQLTableQueryEngine\n",
    "from IPython.display import Markdown, display\n",
    "from llama_index.core import Settings\n",
    "import os\n",
    "\n",
    "os.environ[\"OPENAI_API_KEY\"]=''"
   ]
  },
  {
   "cell_type": "code",
   "execution_count": 2,
   "metadata": {},
   "outputs": [],
   "source": [
    "from sqlalchemy import (\n",
    "    create_engine,\n",
    "    MetaData,\n",
    "    Table,\n",
    "    Column,\n",
    "    Integer,\n",
    "    String,\n",
    "    Date,\n",
    "    ForeignKey,\n",
    "    insert\n",
    ")\n",
    "from datetime import datetime\n",
    "\n",
    "# Function to parse string to date\n",
    "def parse_date(date_str):\n",
    "    return datetime.strptime(date_str, \"%Y-%m-%d\").date()\n",
    "\n",
    "# Create an in-memory SQLite database engine\n",
    "engine = create_engine(\"sqlite:///:memory:\")\n",
    "metadata = MetaData()  #An object that holds information about the database schema (tables, columns, etc.).\n",
    "\n",
    "# Define the 'employee' table\n",
    "employee_table = Table(\n",
    "    \"employee\",\n",
    "    metadata,\n",
    "    Column(\"emp_id\", Integer, primary_key=True),\n",
    "    Column(\"first_name\", String(40)),\n",
    "    Column(\"last_name\", String(40)),\n",
    "    Column(\"birth_day\", Date),\n",
    "    Column(\"sex\", String(1)),\n",
    "    Column(\"salary\", Integer),\n",
    "    Column(\"super_id\", Integer, ForeignKey(\"employee.emp_id\", ondelete=\"SET NULL\")),\n",
    "    Column(\"branch_id\", Integer, ForeignKey(\"branch.branch_id\", ondelete=\"SET NULL\")),\n",
    ")\n",
    "\n",
    "\"\"\"A foreign key is a database concept used to maintain relationships between tables and ensure data integrity. \n",
    "It is a column (or a set of columns) in one table that establishes a link to a column in another table (or sometimes the same table)\n",
    "ON DELETE: Specifies what happens in the child table when a row in the parent table is deleted (e.g., CASCADE, SET NULL, RESTRICT).\n",
    "ON UPDATE: Specifies what happens when a referenced value in the parent table is updated.\n",
    "\"\"\"\n",
    "\n",
    "# Define the 'branch' table\n",
    "branch_table = Table(\n",
    "    \"branch\",\n",
    "    metadata,\n",
    "    Column(\"branch_id\", Integer, primary_key=True),\n",
    "    Column(\"branch_name\", String(40)),\n",
    "    Column(\"mgr_id\", Integer, ForeignKey(\"employee.emp_id\", ondelete=\"SET NULL\")),\n",
    "    Column(\"mgr_start_date\", Date),\n",
    ")\n",
    "\n",
    "# Define the 'client' table\n",
    "client_table = Table(\n",
    "    \"client\",\n",
    "    metadata,\n",
    "    Column(\"client_id\", Integer, primary_key=True),\n",
    "    Column(\"client_name\", String(40)),\n",
    "    Column(\"branch_id\", Integer, ForeignKey(\"branch.branch_id\", ondelete=\"SET NULL\")),\n",
    ")\n",
    "\n",
    "# Define the 'works_with' table\n",
    "works_with_table = Table(\n",
    "    \"works_with\",\n",
    "    metadata,\n",
    "    Column(\"emp_id\", Integer, ForeignKey(\"employee.emp_id\", ondelete=\"CASCADE\")),\n",
    "    Column(\"client_id\", Integer, ForeignKey(\"client.client_id\", ondelete=\"CASCADE\")),\n",
    "    Column(\"total_sales\", Integer),\n",
    ")\n",
    "\n",
    "# Define the 'branch_supplier' table\n",
    "branch_supplier_table = Table(\n",
    "    \"branch_supplier\",\n",
    "    metadata,\n",
    "    Column(\"branch_id\", Integer, ForeignKey(\"branch.branch_id\", ondelete=\"CASCADE\")),\n",
    "    Column(\"supplier_name\", String(40)),\n",
    "    Column(\"supply_type\", String(40)),\n",
    ")\n",
    "\n",
    "# Create all tables\n",
    "metadata.create_all(engine)\n",
    "\n",
    "# Insert data into tables\n",
    "employee_details =[\n",
    "        {\"emp_id\": 100, \"first_name\": \"David\", \"last_name\": \"Wallace\", \"birth_day\": parse_date(\"1967-11-17\"), \"sex\": \"M\", \"salary\": 250000, \"super_id\": None, \"branch_id\": None},\n",
    "        {\"emp_id\": 101, \"first_name\": \"Jan\", \"last_name\": \"Levinson\", \"birth_day\": parse_date(\"1961-05-11\"), \"sex\": \"F\", \"salary\": 110000, \"super_id\": 100, \"branch_id\": 1},\n",
    "        {\"emp_id\": 102, \"first_name\": \"Michael\", \"last_name\": \"Scott\", \"birth_day\": parse_date(\"1964-03-15\"), \"sex\": \"M\", \"salary\": 75000, \"super_id\": 100, \"branch_id\": None},\n",
    "        {\"emp_id\": 103, \"first_name\": \"Angela\", \"last_name\": \"Martin\", \"birth_day\": parse_date(\"1971-06-25\"), \"sex\": \"F\", \"salary\": 63000, \"super_id\": 102, \"branch_id\": 2},\n",
    "        {\"emp_id\": 104, \"first_name\": \"Kelly\", \"last_name\": \"Kapoor\", \"birth_day\": parse_date(\"1980-02-05\"), \"sex\": \"F\", \"salary\": 55000, \"super_id\": 102, \"branch_id\": 2},\n",
    "        {\"emp_id\": 105, \"first_name\": \"Stanley\", \"last_name\": \"Hudson\", \"birth_day\": parse_date(\"1958-02-19\"), \"sex\": \"M\", \"salary\": 69000, \"super_id\": 102, \"branch_id\": 2},\n",
    "        {\"emp_id\": 107, \"first_name\": \"Andy\", \"last_name\": \"Bernard\", \"birth_day\": parse_date(\"1958-02-19\"), \"sex\": \"M\", \"salary\": 69000, \"super_id\": 102, \"branch_id\": 3},\n",
    "        {\"emp_id\": 108, \"first_name\": \"Jim\", \"last_name\": \"Halpert\", \"birth_day\": parse_date(\"1958-02-19\"), \"sex\": \"M\", \"salary\": 69000, \"super_id\": 102, \"branch_id\": 3},\n",
    "    ]\n",
    "\n",
    "for row in employee_details:\n",
    "    stmt = insert(employee_table).values(**row)\n",
    "    with engine.begin() as connection:\n",
    "        cursor = connection.execute(stmt)\n",
    "\n",
    "# Insert into branch table\n",
    "branch_table_values=[\n",
    "        {\"branch_id\": 1, \"branch_name\": \"Corporate\", \"mgr_id\": 100, \"mgr_start_date\": parse_date(\"2006-02-09\")},\n",
    "        {\"branch_id\": 2, \"branch_name\": \"Scranton\", \"mgr_id\": 102, \"mgr_start_date\": parse_date(\"1992-04-06\")},\n",
    "        {\"branch_id\": 3, \"branch_name\": \"Stamford\", \"mgr_id\": 106, \"mgr_start_date\": parse_date(\"1998-02-13\")},\n",
    "    ]\n",
    "\n",
    "for row in branch_table_values:\n",
    "    stmt = insert(branch_table).values(**row)\n",
    "    with engine.begin() as connection:\n",
    "        cursor = connection.execute(stmt)\n",
    "\n",
    "\n",
    "    # Insert into client table\n",
    "client_table_values=[\n",
    "        {\"client_id\": 400, \"client_name\": \"Dunmore Highschool\", \"branch_id\": 2},\n",
    "        {\"client_id\": 401, \"client_name\": \"Lackawana Country\", \"branch_id\": 2},\n",
    "        {\"client_id\": 402, \"client_name\": \"FedEx\", \"branch_id\": 3},\n",
    "        {\"client_id\": 403, \"client_name\": \"John Daly Law, LLC\", \"branch_id\": 3},\n",
    "        {\"client_id\": 404, \"client_name\": \"Scranton Whitepages\", \"branch_id\": 2},\n",
    "        {\"client_id\": 405, \"client_name\": \"Times Newspaper\", \"branch_id\": 3},\n",
    "    ]\n",
    "for row in client_table_values:\n",
    "    stmt = insert(client_table).values(**row)\n",
    "    with engine.begin() as connection:\n",
    "        cursor = connection.execute(stmt)\n",
    "\n",
    "\n",
    "    # Insert into works_with table\n",
    "works_with_table_values = [\n",
    "        {\"emp_id\": 105, \"client_id\": 400, \"total_sales\": 55000},\n",
    "        {\"emp_id\": 102, \"client_id\": 401, \"total_sales\": 267000},\n",
    "        {\"emp_id\": 108, \"client_id\": 402, \"total_sales\": 22500},\n",
    "        {\"emp_id\": 107, \"client_id\": 403, \"total_sales\": 5000},\n",
    "        {\"emp_id\": 108, \"client_id\": 403, \"total_sales\": 12000},\n",
    "        {\"emp_id\": 105, \"client_id\": 404, \"total_sales\": 33000},\n",
    "        {\"emp_id\": 107, \"client_id\": 405, \"total_sales\": 26000},\n",
    "        {\"emp_id\": 102, \"client_id\": 406, \"total_sales\": 15000},\n",
    "        {\"emp_id\": 105, \"client_id\": 406, \"total_sales\": 130000},\n",
    "  ]\n",
    "for row in works_with_table_values:\n",
    "    stmt = insert(works_with_table).values(**row)\n",
    "    with engine.begin() as connection:\n",
    "        cursor = connection.execute(stmt)\n",
    "\n",
    "\n",
    "    # Insert into branch_supplier table\n",
    "branch_supplier_table_values=[\n",
    "        {\"branch_id\": 2, \"supplier_name\": \"Hammer Mill\", \"supply_type\": \"Paper\"},\n",
    "        {\"branch_id\": 2, \"supplier_name\": \"Uni-ball\", \"supply_type\": \"Writing Utensils\"},\n",
    "        {\"branch_id\": 3, \"supplier_name\": \"Patriot Paper\", \"supply_type\": \"Paper\"},\n",
    "        {\"branch_id\": 2, \"supplier_name\": \"J.T. Forms & Labels\", \"supply_type\": \"Custom Forms\"},\n",
    "        {\"branch_id\": 3, \"supplier_name\": \"Uni-ball\", \"supply_type\": \"Writing Utensils\"},\n",
    "        {\"branch_id\": 3, \"supplier_name\": \"Hammer Mill\", \"supply_type\": \"Paper\"},\n",
    "        {\"branch_id\": 3, \"supplier_name\": \"Stamford Lables\", \"supply_type\": \"Custom Forms\"},\n",
    "    ]\n",
    "for row in branch_supplier_table_values:\n",
    "    stmt = insert(branch_supplier_table).values(**row)\n",
    "    with engine.begin() as connection:\n",
    "        cursor = connection.execute(stmt)"
   ]
  },
  {
   "cell_type": "code",
   "execution_count": 3,
   "metadata": {},
   "outputs": [
    {
     "name": "stdout",
     "output_type": "stream",
     "text": [
      "Employee Table:\n",
      "   emp_id first_name last_name   birth_day sex  salary  super_id  branch_id\n",
      "0     100      David   Wallace  1967-11-17   M  250000       NaN        NaN\n",
      "1     101        Jan  Levinson  1961-05-11   F  110000     100.0        1.0\n",
      "2     102    Michael     Scott  1964-03-15   M   75000     100.0        NaN\n",
      "3     103     Angela    Martin  1971-06-25   F   63000     102.0        2.0\n",
      "4     104      Kelly    Kapoor  1980-02-05   F   55000     102.0        2.0\n",
      "5     105    Stanley    Hudson  1958-02-19   M   69000     102.0        2.0\n",
      "6     107       Andy   Bernard  1958-02-19   M   69000     102.0        3.0\n",
      "7     108        Jim   Halpert  1958-02-19   M   69000     102.0        3.0\n",
      "\n",
      "Branch Table:\n",
      "   branch_id branch_name  mgr_id mgr_start_date\n",
      "0          1   Corporate     100     2006-02-09\n",
      "1          2    Scranton     102     1992-04-06\n",
      "2          3    Stamford     106     1998-02-13\n",
      "\n",
      "Client Table:\n",
      "   client_id          client_name  branch_id\n",
      "0        400   Dunmore Highschool          2\n",
      "1        401    Lackawana Country          2\n",
      "2        402                FedEx          3\n",
      "3        403   John Daly Law, LLC          3\n",
      "4        404  Scranton Whitepages          2\n",
      "5        405      Times Newspaper          3\n"
     ]
    }
   ],
   "source": [
    "import pandas as pd\n",
    "from sqlalchemy import select\n",
    "\n",
    "def display_table_as_dataframe(table, connection):\n",
    "    stmt = select(table)  # Create a SELECT statement for the table\n",
    "    result = connection.execute(stmt)  # Execute the statement\n",
    "    df = pd.DataFrame(result.fetchall(), columns=result.keys())  # Convert the result to a pandas DataFrame\n",
    "    print(df)  # Display the DataFrame\n",
    "\n",
    "# Display the tables\n",
    "with engine.connect() as conn:\n",
    "    print(\"Employee Table:\")\n",
    "    display_table_as_dataframe(employee_table, conn)\n",
    "    print(\"\\nBranch Table:\")\n",
    "    display_table_as_dataframe(branch_table, conn)\n",
    "    print(\"\\nClient Table:\")\n",
    "    display_table_as_dataframe(client_table, conn)\n"
   ]
  },
  {
   "cell_type": "code",
   "execution_count": 4,
   "metadata": {},
   "outputs": [
    {
     "name": "stdout",
     "output_type": "stream",
     "text": [
      "\n",
      "Works With Table:\n",
      "   emp_id  client_id  total_sales\n",
      "0     105        400        55000\n",
      "1     102        401       267000\n",
      "2     108        402        22500\n",
      "3     107        403         5000\n",
      "4     108        403        12000\n",
      "5     105        404        33000\n",
      "6     107        405        26000\n",
      "7     102        406        15000\n",
      "8     105        406       130000\n",
      "\n",
      "Branch Supplier Table:\n",
      "   branch_id        supplier_name       supply_type\n",
      "0          2          Hammer Mill             Paper\n",
      "1          2             Uni-ball  Writing Utensils\n",
      "2          3        Patriot Paper             Paper\n",
      "3          2  J.T. Forms & Labels      Custom Forms\n",
      "4          3             Uni-ball  Writing Utensils\n",
      "5          3          Hammer Mill             Paper\n",
      "6          3      Stamford Lables      Custom Forms\n"
     ]
    }
   ],
   "source": [
    "with engine.connect() as conn:\n",
    "    print(\"\\nWorks With Table:\")\n",
    "    display_table_as_dataframe(works_with_table, conn)\n",
    "    print(\"\\nBranch Supplier Table:\")\n",
    "    display_table_as_dataframe(branch_supplier_table, conn)"
   ]
  },
  {
   "cell_type": "code",
   "execution_count": 5,
   "metadata": {},
   "outputs": [
    {
     "name": "stdout",
     "output_type": "stream",
     "text": [
      "(100,)\n",
      "(101,)\n",
      "(102,)\n",
      "(103,)\n",
      "(104,)\n",
      "(105,)\n",
      "(107,)\n",
      "(108,)\n"
     ]
    }
   ],
   "source": [
    "from sqlalchemy import text\n",
    "\n",
    "with engine.connect() as con:\n",
    "    rows = con.execute(text(\"SELECT emp_id from employee\"))\n",
    "    for row in rows:\n",
    "        print(row)"
   ]
  },
  {
   "cell_type": "code",
   "execution_count": 6,
   "metadata": {},
   "outputs": [],
   "source": [
    "from llama_index.llms.openai import OpenAI\n",
    "llm = OpenAI(temperature=0.1, model=\"gpt-4o-mini\")"
   ]
  },
  {
   "cell_type": "markdown",
   "metadata": {},
   "source": [
    "# Text-to-SQL Query Engine"
   ]
  },
  {
   "cell_type": "code",
   "execution_count": 7,
   "metadata": {},
   "outputs": [],
   "source": [
    "sql_database = SQLDatabase(engine, include_tables=[\"employee\",\"branch\"])\n",
    "query_engine = NLSQLTableQueryEngine(\n",
    "    sql_database=sql_database, tables=[\"employee\",\"branch\"], llm=llm\n",
    ")\n",
    "query_str = \"I need name of the all emplyees who are with client John Daly Law LLC\"\n",
    "response = query_engine.query(query_str)"
   ]
  },
  {
   "cell_type": "code",
   "execution_count": 8,
   "metadata": {},
   "outputs": [
    {
     "data": {
      "text/markdown": [
       "There are currently no employees associated with the client John Daly Law LLC."
      ],
      "text/plain": [
       "<IPython.core.display.Markdown object>"
      ]
     },
     "metadata": {},
     "output_type": "display_data"
    }
   ],
   "source": [
    "display(Markdown(f\"{response}\"))"
   ]
  },
  {
   "cell_type": "code",
   "execution_count": null,
   "metadata": {},
   "outputs": [],
   "source": []
  }
 ],
 "metadata": {
  "kernelspec": {
   "display_name": "ash",
   "language": "python",
   "name": "python3"
  },
  "language_info": {
   "codemirror_mode": {
    "name": "ipython",
    "version": 3
   },
   "file_extension": ".py",
   "mimetype": "text/x-python",
   "name": "python",
   "nbconvert_exporter": "python",
   "pygments_lexer": "ipython3",
   "version": "3.11.7"
  }
 },
 "nbformat": 4,
 "nbformat_minor": 2
}
